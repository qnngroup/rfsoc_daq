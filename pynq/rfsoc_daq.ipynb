{
 "cells": [
  {
   "cell_type": "code",
   "execution_count": null,
   "id": "2845dfa7-b3b5-48b6-98ed-c79ac4a8a40f",
   "metadata": {},
   "outputs": [],
   "source": [
    "%matplotlib inline\n",
    "import numpy as np\n",
    "import matplotlib.pyplot as plt\n",
    "import time\n",
    "from shiftreg import ShiftregTester"
   ]
  },
  {
   "cell_type": "code",
   "execution_count": null,
   "id": "eacc0222-7a00-4b72-b417-6c330d2cda52",
   "metadata": {},
   "outputs": [],
   "source": [
    "ol = ShiftregTester(\"hw/top_20240824_112221.bit\", verbose=True, download=True) # new rx firmware, no ILA, consolidated DMA, interrupt controller"
   ]
  },
  {
   "cell_type": "code",
   "execution_count": null,
   "id": "1facfdb5-db6a-4931-ba98-62fb90adbf6d",
   "metadata": {},
   "outputs": [],
   "source": [
    "# check that pgood is fine for all of the pins. if this is nonzero, the AFE isn't working.\n",
    "0x3f ^ ol.afe_power_status()"
   ]
  },
  {
   "cell_type": "markdown",
   "id": "8c54d711-bd49-4b58-bd97-9e69476d174e",
   "metadata": {
    "tags": []
   },
   "source": [
    "# Calibration"
   ]
  },
  {
   "cell_type": "code",
   "execution_count": null,
   "id": "1f8c5d82-d2fe-470c-a27d-3983f6fdbf36",
   "metadata": {},
   "outputs": [],
   "source": [
    "# calibration of dac scale/offset\n",
    "# get output voltage on 50-ohm load with inputs of -0.125,0,0.125 (quarter of full scale range - doing full scale range introduces nonlinearity which messes up calibration)\n",
    "# ideally would get a calibration curve to do digital pre-distortion, but that would take too long to manually calibrate, and the analog board doesn't have the necessary components to do an autocal\n",
    "\n",
    "# step 1:\n",
    "# set 1/8th of minimum for all outputs, measure voltage\n",
    "ol.set_dac_scale_offset([0]*8, [-2/8]*8)"
   ]
  },
  {
   "cell_type": "code",
   "execution_count": null,
   "id": "d4dd008c-aaa3-46fe-b62e-a810d3361d40",
   "metadata": {},
   "outputs": [],
   "source": [
    "dac_min_voltage_mV = np.array([-12.18, -6.44, -12.85, -7.76] + [-10]*4)"
   ]
  },
  {
   "cell_type": "code",
   "execution_count": null,
   "id": "3f67e066-e1e3-4783-89f2-fdfab5a225c7",
   "metadata": {},
   "outputs": [],
   "source": [
    "# step 2:\n",
    "# set zero for all outputs, measure voltage\n",
    "ol.set_dac_scale_offset([0]*8, [0]*8)"
   ]
  },
  {
   "cell_type": "code",
   "execution_count": null,
   "id": "b3df0aa3-7e57-493e-bcb7-932159061e88",
   "metadata": {},
   "outputs": [],
   "source": [
    "dac_zero_voltage_mV = np.array([-3.13, 1.37, -4.20, 0.67] + [0]*4)"
   ]
  },
  {
   "cell_type": "code",
   "execution_count": null,
   "id": "a01e0a87-e8c2-4991-96c8-f1c060f9b5cb",
   "metadata": {},
   "outputs": [],
   "source": [
    "ol.set_dac_scale_offset([0]*8, [2/8]*8)"
   ]
  },
  {
   "cell_type": "code",
   "execution_count": null,
   "id": "e03b7a78-26f3-48a9-9749-92b9274791de",
   "metadata": {},
   "outputs": [],
   "source": [
    "dac_max_voltage_mV = np.array([5.78, 9.18, 4.62, 9.07] + [10]*4)"
   ]
  },
  {
   "cell_type": "code",
   "execution_count": null,
   "id": "30e2d2de-89b6-4a0e-bd75-251e0b51cfdf",
   "metadata": {},
   "outputs": [],
   "source": [
    "dac_scale_per_mV = (2/8 - -2/8)/(dac_max_voltage_mV - dac_min_voltage_mV)\n",
    "dac_bias_correction = -dac_scale_per_mV*(dac_max_voltage_mV + 2*dac_zero_voltage_mV + dac_min_voltage_mV)/4#-dac_zero_voltage_mV*dac_scale_per_mV"
   ]
  },
  {
   "cell_type": "code",
   "execution_count": null,
   "id": "684eae7b-5768-43e9-9c05-eed5e5b83c7e",
   "metadata": {
    "tags": []
   },
   "outputs": [],
   "source": [
    "ol.set_dac_scale_offset([0]*8, dac_bias_correction)"
   ]
  },
  {
   "cell_type": "code",
   "execution_count": null,
   "id": "97c6b588-c5d0-4c2a-a425-eed05a5aaf39",
   "metadata": {},
   "outputs": [],
   "source": [
    "ol.set_dac_scale_offset([0]*8, dac_bias_correction + np.array([3.5, 2, 8, 5] + [0]*4) * dac_scale_per_mV)"
   ]
  },
  {
   "cell_type": "code",
   "execution_count": null,
   "id": "6ba19cd4-d2b9-4f3b-a52c-550c2a474c68",
   "metadata": {},
   "outputs": [],
   "source": [
    "expt_name = 'sr0a_25ohm'\n",
    "pulse_param_ns = np.array([1, 0, 1, 0, 5])\n",
    "input_mV = 190e-6*50*1e3\n",
    "clk1_mV = 190e-6*50*1e3\n",
    "clk2_mV = 190e-6*50*1e3\n",
    "clkro_mV = 90e-6*50*1e3\n",
    "dac_amplitudes_mV = [input_mV, clk1_mV, clk2_mV, clkro_mV]\n",
    "adc_save_channels = [0, 1, 2, 8]\n",
    "discriminator_thresholds = [\n",
    "    [0x8000, 0x8000, 0x8000, 0x7fff], # low\n",
    "    [0x8000, 0x8000, 0x8000, 0x7fff], # high\n",
    "    #[0x0, 0x0, 0x0, 0x7fff], # low\n",
    "    #[0x580, 0x780, 0x200, 0x7fff], # high\n",
    "]\n",
    "discriminator_delays = [\n",
    "    [0, 0, 0, 0], # start (cycles @ 512 MHz)\n",
    "    [0, 0, 0, 0], # stop\n",
    "    #[1, 1, 1, 0], # start (cycles @ 512 MHz)\n",
    "    #[1, 1, 1, 0], # stop\n",
    "]\n",
    "discriminator_sources = [0, 1, 2, 3]\n",
    "adc_atten_dB = [20, 20, 20] + [32]*5\n",
    "start = time.time()\n",
    "savefile = ol.single_shiftreg_measurement(expt_name,\n",
    "                                          adc_save_channels,\n",
    "                                          pulse_param_ns,\n",
    "                                          dac_amplitudes_mV,\n",
    "                                          discriminator_thresholds,\n",
    "                                          discriminator_delays,\n",
    "                                          discriminator_sources,\n",
    "                                          adc_atten_dB,\n",
    "                                          dac_bias_correction,\n",
    "                                          dac_scale_per_mV)\n",
    "stop = time.time()\n",
    "print(f'runtime = {stop - start} s')"
   ]
  },
  {
   "cell_type": "code",
   "execution_count": null,
   "id": "0d0f5660-5113-4ecc-b2ed-4985866630d7",
   "metadata": {},
   "outputs": [],
   "source": [
    "ol.plot_shiftreg_experiment(savefile, 165e-9, [0.15, 0.8])"
   ]
  },
  {
   "cell_type": "code",
   "execution_count": null,
   "id": "a1be1881-ed71-4e40-832a-b045467ee27a",
   "metadata": {},
   "outputs": [],
   "source": [
    "f = np.load(f'data/{savefile}.npz', allow_pickle=True)\n",
    "active_channels = f['active_channels']\n",
    "timestamps = f['timestamps']\n",
    "samples = f['samples']\n",
    "tvecs = ol._get_tvecs_from_timestamps([0,1,2,3], timestamps, [len(s) for s in samples])"
   ]
  },
  {
   "cell_type": "code",
   "execution_count": null,
   "id": "ebd697e0-2102-4982-a924-03316d6eca01",
   "metadata": {},
   "outputs": [],
   "source": [
    "for tvec in tvecs:\n",
    "    plt.plot(tvec)"
   ]
  },
  {
   "cell_type": "code",
   "execution_count": null,
   "id": "bdb212d9-a30f-4910-8ac9-3d90513cebb9",
   "metadata": {},
   "outputs": [],
   "source": [
    "tstamp_write_depth_packet = [537395712, 3623992576, 8]\n",
    "tstamp_write_depth_word = sum((d << 32*i) for i,d in enumerate(tstamp_write_depth_packet))\n",
    "depth_per_bank = []\n",
    "for i in range(8):\n",
    "    depth_per_bank.append((tstamp_write_depth_word >> 10*i) & ((1 << 10) - 1))"
   ]
  },
  {
   "cell_type": "code",
   "execution_count": null,
   "id": "51b3fd0f-6197-4051-9ac5-cf582c604392",
   "metadata": {},
   "outputs": [],
   "source": [
    "depth_per_bank"
   ]
  },
  {
   "cell_type": "code",
   "execution_count": null,
   "id": "4336126c-5b8a-4864-a7f0-b2b3991f4964",
   "metadata": {},
   "outputs": [],
   "source": [
    "[len(s) for s in samples]"
   ]
  },
  {
   "cell_type": "code",
   "execution_count": null,
   "id": "2d5f142f-f3f3-45d4-b9e9-d603dcf9b720",
   "metadata": {},
   "outputs": [],
   "source": []
  }
 ],
 "metadata": {
  "kernelspec": {
   "display_name": "Python 3 (ipykernel)",
   "language": "python",
   "name": "python3"
  },
  "language_info": {
   "codemirror_mode": {
    "name": "ipython",
    "version": 3
   },
   "file_extension": ".py",
   "mimetype": "text/x-python",
   "name": "python",
   "nbconvert_exporter": "python",
   "pygments_lexer": "ipython3",
   "version": "3.10.4"
  }
 },
 "nbformat": 4,
 "nbformat_minor": 5
}
