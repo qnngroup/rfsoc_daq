{
 "cells": [
  {
   "cell_type": "code",
   "execution_count": 2,
   "id": "4050c497-eed3-404d-bf6b-e02031ecef49",
   "metadata": {},
   "outputs": [],
   "source": [
    "import os\n",
    "from pynq import Overlay\n",
    "from pynq import allocate\n",
    "import xrfclk\n",
    "import numpy as np\n",
    "import matplotlib.pyplot as plt\n",
    "import matplotlib as mpl\n",
    "from axififo import AxiStreamFifoDriver\n",
    "import scipy.signal\n",
    "import scipy.io\n",
    "import time\n",
    "import serial"
   ]
  },
  {
   "cell_type": "code",
   "execution_count": 3,
   "id": "0fa441a9-b149-4c7a-949a-5c7223ccac49",
   "metadata": {},
   "outputs": [
    {
     "data": {
      "application/javascript": [
       "\n",
       "try {\n",
       "require(['notebook/js/codecell'], function(codecell) {\n",
       "  codecell.CodeCell.options_default.highlight_modes[\n",
       "      'magic_text/x-csrc'] = {'reg':[/^%%microblaze/]};\n",
       "  Jupyter.notebook.events.one('kernel_ready.Kernel', function(){\n",
       "      Jupyter.notebook.get_cells().map(function(cell){\n",
       "          if (cell.cell_type == 'code'){ cell.auto_highlight(); } }) ;\n",
       "  });\n",
       "});\n",
       "} catch (e) {};\n"
      ]
     },
     "metadata": {},
     "output_type": "display_data"
    },
    {
     "data": {
      "application/javascript": [
       "\n",
       "try {\n",
       "require(['notebook/js/codecell'], function(codecell) {\n",
       "  codecell.CodeCell.options_default.highlight_modes[\n",
       "      'magic_text/x-csrc'] = {'reg':[/^%%pybind11/]};\n",
       "  Jupyter.notebook.events.one('kernel_ready.Kernel', function(){\n",
       "      Jupyter.notebook.get_cells().map(function(cell){\n",
       "          if (cell.cell_type == 'code'){ cell.auto_highlight(); } }) ;\n",
       "  });\n",
       "});\n",
       "} catch (e) {};\n"
      ]
     },
     "metadata": {},
     "output_type": "display_data"
    }
   ],
   "source": [
    "ol = Overlay(\"hw/top_20240110_155705.bit\", download=True)\n",
    "xrfclk.set_ref_clks(lmk_freq=122.88, lmx_freq=409.6)"
   ]
  },
  {
   "cell_type": "code",
   "execution_count": 6,
   "id": "8d2c84cf-83eb-4657-a1bf-d261e16c4d61",
   "metadata": {},
   "outputs": [],
   "source": [
    "dac_fsamp = 6.144e9 #Hz\n",
    "dds_phase_bits = 32\n",
    "scale_bits = 18\n",
    "scale_frac_bits = 16\n",
    "\n",
    "awg_dma = ol.axi_dma_0.sendchannel\n",
    "adc_dma = ol.axi_dma_0.recvchannel\n",
    "# 8x2048-deep data buffer (256b/word)\n",
    "# 8x512-deep timestamp buffer (64b/word)\n",
    "# information:\n",
    "# 8x2x(64+256)\n",
    "# 8 channels, which report both timestamp and data channel ID and sample count (conservative estimate of 16 bytes for each)\n",
    "adc_buffer = allocate(shape=((8*2048*256+8*512*64+8*2*(256+64))//16,), dtype=np.uint16)\n",
    "# 8x32-deep data buffer (256b/word)\n",
    "awg_buffer = allocate(shape=((8*32*256)//16,), dtype=np.uint16)\n",
    "\n",
    "def receive_adc_data():\n",
    "    adc_dma.transfer(adc_buffer)\n",
    "    \n",
    "def send_awg_data():\n",
    "    awg_dma.transfer(awg_buffer)\n",
    "\n",
    "def packetize(long_word, num_words):\n",
    "    packet = []\n",
    "    print(f'packetizing word {long_word:#0{num_words*8}x} into {num_words} words')\n",
    "    for word in range(num_words):\n",
    "        packet.append(long_word & ((1 << 32) - 1))\n",
    "        long_word >>= 32\n",
    "    return packet\n",
    "    \n",
    "def set_dac_scale(scales):\n",
    "    scale_word = 0\n",
    "    for channel in range(8):\n",
    "        # scale is 2Q16, so quantize appropriately\n",
    "        quant = int(scales[channel] * 2**scale_frac_bits)\n",
    "        if (quant >> scale_frac_bits) > 1 or (quant >> scale_frac_bits) < -2:\n",
    "            raise ValueError(f'cannot quantize {scale} to {scale_bits-scale_frac_bits}Q{scale_frac_bits}')\n",
    "        if quant < 0:\n",
    "            quant += 2**scale_bits\n",
    "        scale_word |= quant << (scale_bits * channel)\n",
    "        #print(f'channel = {channel}:')\n",
    "        #print(f'got scale = {scales[channel]}')\n",
    "        #print(f'scale -> scale_2Q16: {quant} ({quant:#010x})')\n",
    "    ol.dac_scale_config.fifo.send_tx_pkt(packetize(scale_word, (int(np.ceil(scale_bits/4))*4 * 8) // 32))\n",
    "\n",
    "def set_dds_freq(freqs_hz):\n",
    "    pinc_word = 0\n",
    "    for channel in range(8):\n",
    "        pinc = int((freqs_hz[channel]/dac_fsamp)*(2**dds_phase_bits))\n",
    "        pinc_word |= pinc << (dds_phase_bits * channel)\n",
    "        #print(f'channel = {channel}:')\n",
    "        #print(f'got freq_hz = {freqs_hz[channel]/1e6}MHz')\n",
    "        #print(f'freq_hz -> phase_inc: {pinc} ({pinc:#010x})')\n",
    "    ol.dds_phase_inc.fifo.send_tx_pkt(packetize(pinc, (dds_phase_bits * 8) // 32))\n",
    "    time.sleep(0.008)\n",
    "    \n",
    "def set_awg_triggers(trigger_modes):\n",
    "    trigger_word = 0\n",
    "    for channel in range(8):\n",
    "        if trigger_modes[channel] not in range(0,3):\n",
    "            raise ValueError(f'invalid selection for trigger mode ({trigger_modes[channel]}) on channel ({channel})')\n",
    "        trigger_word |= trigger_modes[channel] << (2*channel)\n",
    "    ol.awg_trigger_out_config.fifo.send_tx_pkt([trigger_word])\n",
    "    time.sleep(0.008)\n",
    "    \n",
    "def set_awg_burst_length(burst_lengths):\n",
    "    packet = []\n",
    "    for channel in range(8):\n",
    "        packet.append(burst_lengths[channel] & ((1 << 32) - 1))\n",
    "        packet.append((burst_lengths[channel] >> 32) & ((1 << 32) - 1))\n",
    "    ol.awg_burst_length.fifo.send_tx_pkt(packet)\n",
    "    time.sleep(0.008)\n",
    "    \n",
    "def set_awg_frame_depth(depths):\n",
    "    frame_depth_word = 0\n",
    "    for channel in range(8):\n",
    "        if depths[channel] not in range(0, 2049):\n",
    "            raise ValueError(f'invalid frame depth ({depths[channel]}) for channel ({channel})')\n",
    "        frame_depth_word |= depths[channel] << (12*channel)\n",
    "    print(f'{frame_depth_word:#024x}')\n",
    "    ol.awg_frame_depth.fifo.send_tx_pkt(packetize(frame_depth_word, (12*8)//32))\n",
    "    time.sleep(0.008)\n",
    "\n",
    "def start_awg():\n",
    "    ol.awg_start_stop.fifo.send_tx_pkt([2])\n",
    "    time.sleep(0.008)\n",
    "    \n",
    "def stop_awg():\n",
    "    ol.awg_start_stop.fifo.send_tx_pkt([1])\n",
    "    time.sleep(0.008)\n",
    "    \n",
    "def set_all_dds():\n",
    "    ol.dac_mux_config.fifo.send_tx_pkt([0xfedcba98])\n",
    "    time.sleep(0.008)\n",
    "    \n",
    "def set_all_awg():\n",
    "    ol.dac_mux_config.fifo.send_tx_pkt([0x76543210])\n",
    "    time.sleep(0.008)"
   ]
  },
  {
   "cell_type": "code",
   "execution_count": 17,
   "id": "65b0a011-bcd8-4a24-b114-0f8507036afd",
   "metadata": {},
   "outputs": [
    {
     "name": "stdout",
     "output_type": "stream",
     "text": [
      "packetizing word 0x00000000000000000000000000000000010000 into 5 words\n",
      "0x20020020020020020020020\n",
      "packetizing word 0x20020020020020020020020 into 3 words\n",
      "[]\n"
     ]
    }
   ],
   "source": [
    "# send data with AWG\n",
    "# DMA buffer is allocated at 8x64x256b, so set frame length of 64\n",
    "stop_awg() # stop the AWG to make sure we return to DMA_IDLE state\n",
    "# first set the trigger output (not really necessary now)\n",
    "set_awg_triggers([0]*8)\n",
    "# now set burst lengths\n",
    "set_awg_burst_length([1]*8) # run for 2^64 - 1 cycles, basically forever\n",
    "# set dac scale and set mux to use AWG\n",
    "set_dac_scale([1] + [0]*7) # only use first AWG channel\n",
    "set_all_awg() # set mux to select AWGs\n",
    "# generate waveform\n",
    "t = np.linspace(0,1,32*16)\n",
    "for i in range(8):\n",
    "    awg_buffer[i*32*16:(i+1)*32*16] = (2**14-1)*scipy.signal.sawtooth(20*np.pi*t,width=0.5)\n",
    "    #if i % 2 == 0:\n",
    "    #    awg_buffer[i*64*16:(i+1)*64*16] = (2**15-1)*scipy.signal.chirp(t,f0=1,f1=250,t1=1,method='linear')\n",
    "    #else:\n",
    "    #    awg_buffer[i*64*16:(i+1)*64*16] = (2**15-1)*scipy.signal.chirp(t,f0=250,f1=1,t1=1,method='linear')\n",
    "# set frame depth and do DMA\n",
    "set_awg_frame_depth([32]*8)\n",
    "send_awg_data()\n",
    "print(ol.awg_dma_error.fifo.get_rx_fifo_pkt())\n",
    "start_awg()"
   ]
  },
  {
   "cell_type": "code",
   "execution_count": 18,
   "id": "2165644e-25a9-44df-9cf7-7910197ee295",
   "metadata": {},
   "outputs": [
    {
     "name": "stdout",
     "output_type": "stream",
     "text": [
      "[]\n",
      "[]\n"
     ]
    }
   ],
   "source": [
    "print(ol.buffer_timestamp_width.fifo.get_rx_fifo_pkt())\n",
    "print(ol.awg_dma_error.fifo.get_rx_fifo_pkt())"
   ]
  },
  {
   "cell_type": "code",
   "execution_count": 14,
   "id": "f15f878a-d710-4ec3-8792-87acc408836c",
   "metadata": {},
   "outputs": [],
   "source": [
    "stop_awg()"
   ]
  },
  {
   "cell_type": "code",
   "execution_count": 83,
   "id": "eb2862eb-a220-4070-a233-0a82a67eaae3",
   "metadata": {},
   "outputs": [
    {
     "name": "stdout",
     "output_type": "stream",
     "text": [
      "packetizing word 0x00000000000000000000000000000000004000 into 5 words\n"
     ]
    }
   ],
   "source": [
    "set_dac_scale([0.25] + [0]*7)"
   ]
  },
  {
   "cell_type": "code",
   "execution_count": 78,
   "id": "d7740df5-9d11-432f-995e-a8f3fb15bfc7",
   "metadata": {},
   "outputs": [
    {
     "data": {
      "text/plain": [
       "[<matplotlib.lines.Line2D at 0xffff59d5e110>]"
      ]
     },
     "execution_count": 78,
     "metadata": {},
     "output_type": "execute_result"
    },
    {
     "data": {
      "image/png": "[encoded data removed]",
      "text/plain": [
       "<Figure size 432x288 with 1 Axes>"
      ]
     },
     "metadata": {
      "needs_background": "light"
     },
     "output_type": "display_data"
    }
   ],
   "source": [
    "plt.plot(awg_buffer[0:2048*16])"
   ]
  },
  {
   "cell_type": "code",
   "execution_count": 12,
   "id": "4249f8cd-66b4-4dcc-9b0d-8869e78d4a99",
   "metadata": {
    "scrolled": true,
    "tags": []
   },
   "outputs": [
    {
     "name": "stdout",
     "output_type": "stream",
     "text": [
      "channel = 0:\n",
      "got freq_hz = 100.0MHz\n",
      "freq_hz -> phase_inc: 69905066 (0x042aaaaa)\n",
      "channel = 1:\n",
      "got freq_hz = 100.0MHz\n",
      "freq_hz -> phase_inc: 69905066 (0x042aaaaa)\n",
      "channel = 2:\n",
      "got freq_hz = 100.0MHz\n",
      "freq_hz -> phase_inc: 69905066 (0x042aaaaa)\n",
      "channel = 3:\n",
      "got freq_hz = 100.0MHz\n",
      "freq_hz -> phase_inc: 69905066 (0x042aaaaa)\n",
      "channel = 4:\n",
      "got freq_hz = 100.0MHz\n",
      "freq_hz -> phase_inc: 69905066 (0x042aaaaa)\n",
      "channel = 5:\n",
      "got freq_hz = 100.0MHz\n",
      "freq_hz -> phase_inc: 69905066 (0x042aaaaa)\n",
      "channel = 6:\n",
      "got freq_hz = 100.0MHz\n",
      "freq_hz -> phase_inc: 69905066 (0x042aaaaa)\n",
      "channel = 7:\n",
      "got freq_hz = 100.0MHz\n",
      "freq_hz -> phase_inc: 69905066 (0x042aaaaa)\n",
      "channel = 0:\n",
      "got scale = 1\n",
      "scale -> scale_2Q16: 65536 (0x00010000)\n",
      "channel = 1:\n",
      "got scale = 1\n",
      "scale -> scale_2Q16: 65536 (0x00010000)\n",
      "channel = 2:\n",
      "got scale = 1\n",
      "scale -> scale_2Q16: 65536 (0x00010000)\n",
      "channel = 3:\n",
      "got scale = 1\n",
      "scale -> scale_2Q16: 65536 (0x00010000)\n",
      "channel = 4:\n",
      "got scale = 1\n",
      "scale -> scale_2Q16: 65536 (0x00010000)\n",
      "channel = 5:\n",
      "got scale = 1\n",
      "scale -> scale_2Q16: 65536 (0x00010000)\n",
      "channel = 6:\n",
      "got scale = 1\n",
      "scale -> scale_2Q16: 65536 (0x00010000)\n",
      "channel = 7:\n",
      "got scale = 1\n",
      "scale -> scale_2Q16: 65536 (0x00010000)\n"
     ]
    },
    {
     "ename": "OverflowError",
     "evalue": "int too big to convert",
     "output_type": "error",
     "traceback": [
      "\u001b[0;31m---------------------------------------------------------------------------\u001b[0m",
      "\u001b[0;31mOverflowError\u001b[0m                             Traceback (most recent call last)",
      "Input \u001b[0;32mIn [12]\u001b[0m, in \u001b[0;36m<cell line: 4>\u001b[0;34m()\u001b[0m\n\u001b[1;32m      2\u001b[0m set_all_dds()\n\u001b[1;32m      3\u001b[0m set_dds_freq([\u001b[38;5;241m100e6\u001b[39m]\u001b[38;5;241m*\u001b[39m\u001b[38;5;241m8\u001b[39m)\n\u001b[0;32m----> 4\u001b[0m \u001b[43mset_dac_scale\u001b[49m\u001b[43m(\u001b[49m\u001b[43m[\u001b[49m\u001b[38;5;241;43m1\u001b[39;49m\u001b[43m]\u001b[49m\u001b[38;5;241;43m*\u001b[39;49m\u001b[38;5;241;43m8\u001b[39;49m\u001b[43m)\u001b[49m\n",
      "Input \u001b[0;32mIn [8]\u001b[0m, in \u001b[0;36mset_dac_scale\u001b[0;34m(scales)\u001b[0m\n\u001b[1;32m     34\u001b[0m     \u001b[38;5;28mprint\u001b[39m(\u001b[38;5;124mf\u001b[39m\u001b[38;5;124m'\u001b[39m\u001b[38;5;124mgot scale = \u001b[39m\u001b[38;5;132;01m{\u001b[39;00mscales[channel]\u001b[38;5;132;01m}\u001b[39;00m\u001b[38;5;124m'\u001b[39m)\n\u001b[1;32m     35\u001b[0m     \u001b[38;5;28mprint\u001b[39m(\u001b[38;5;124mf\u001b[39m\u001b[38;5;124m'\u001b[39m\u001b[38;5;124mscale -> scale_2Q16: \u001b[39m\u001b[38;5;132;01m{\u001b[39;00mquant\u001b[38;5;132;01m}\u001b[39;00m\u001b[38;5;124m (\u001b[39m\u001b[38;5;132;01m{\u001b[39;00mquant\u001b[38;5;132;01m:\u001b[39;00m\u001b[38;5;124m#010x\u001b[39m\u001b[38;5;132;01m}\u001b[39;00m\u001b[38;5;124m)\u001b[39m\u001b[38;5;124m'\u001b[39m)\n\u001b[0;32m---> 36\u001b[0m ol\u001b[38;5;241m.\u001b[39mdac_scale_config\u001b[38;5;241m.\u001b[39mfifo\u001b[38;5;241m.\u001b[39msend_tx_pkt(\u001b[43mscale_word\u001b[49m\u001b[38;5;241;43m.\u001b[39;49m\u001b[43mto_bytes\u001b[49m\u001b[43m(\u001b[49m\u001b[43m(\u001b[49m\u001b[43mscale_bits\u001b[49m\u001b[43m \u001b[49m\u001b[38;5;241;43m>>\u001b[39;49m\u001b[43m \u001b[49m\u001b[38;5;241;43m2\u001b[39;49m\u001b[43m)\u001b[49m\u001b[43m \u001b[49m\u001b[38;5;241;43m<<\u001b[39;49m\u001b[43m \u001b[49m\u001b[38;5;241;43m2\u001b[39;49m\u001b[43m,\u001b[49m\u001b[38;5;124;43m'\u001b[39;49m\u001b[38;5;124;43mlittle\u001b[39;49m\u001b[38;5;124;43m'\u001b[39;49m\u001b[43m)\u001b[49m)\n",
      "\u001b[0;31mOverflowError\u001b[0m: int too big to convert"
     ]
    }
   ],
   "source": [
    "# send data with DDS\n",
    "set_all_dds()\n",
    "set_dds_freq([100e6]*8)\n",
    "set_dac_scale([1]*8)"
   ]
  },
  {
   "cell_type": "code",
   "execution_count": 17,
   "id": "1782448f-4b6a-4b8a-82aa-9519aa33802e",
   "metadata": {},
   "outputs": [
    {
     "data": {
      "text/plain": [
       "0"
      ]
     },
     "execution_count": 17,
     "metadata": {},
     "output_type": "execute_result"
    }
   ],
   "source": [
    "ol.awg_dma_error.fifo.read_num_rx_words()"
   ]
  },
  {
   "cell_type": "code",
   "execution_count": 3,
   "id": "cf8ac878-7b2f-4fd0-a9dc-e44a6557e446",
   "metadata": {},
   "outputs": [
    {
     "data": {
      "text/plain": [
       "\u001b[0;31mType:\u001b[0m            Overlay\n",
       "\u001b[0;31mString form:\u001b[0m     <pynq.overlay.Overlay object at 0xffff8c52e170>\n",
       "\u001b[0;31mFile:\u001b[0m            /usr/local/share/pynq-venv/lib/python3.10/site-packages/pynq/overlay.py\n",
       "\u001b[0;31mDocstring:\u001b[0m      \n",
       "Default documentation for overlay hw/top.bit. The following\n",
       "attributes are available on this overlay:\n",
       "\n",
       "IP Blocks\n",
       "----------\n",
       "axi_dma_0            : pynq.lib.dma.DMA\n",
       "usp_rf_data_converter_0 : pynq.overlay.DefaultIP\n",
       "sample_discriminator_config/fifo : axififo.AxiStreamFifoDriver\n",
       "buffer_config/fifo   : axififo.AxiStreamFifoDriver\n",
       "adc_mux_config/fifo  : axififo.AxiStreamFifoDriver\n",
       "buffer_start_stop/fifo : axififo.AxiStreamFifoDriver\n",
       "awg_frame_depth/fifo : axififo.AxiStreamFifoDriver\n",
       "awg_burst_length/fifo : axififo.AxiStreamFifoDriver\n",
       "awg_start_stop/fifo  : axififo.AxiStreamFifoDriver\n",
       "awg_trigger_out_config/fifo : axififo.AxiStreamFifoDriver\n",
       "dac_mux_config/fifo  : axififo.AxiStreamFifoDriver\n",
       "trigger_manager_config/fifo : axififo.AxiStreamFifoDriver\n",
       "dac_scale_config/fifo : axififo.AxiStreamFifoDriver\n",
       "dds_phase_inc/fifo   : axififo.AxiStreamFifoDriver\n",
       "awg_dma_error/fifo   : axififo.AxiStreamFifoDriver\n",
       "buffer_timestamp_width/fifo : axififo.AxiStreamFifoDriver\n",
       "afe_pgood            : pynq.lib.axigpio.AxiGPIO\n",
       "lmh6401_config/fifo  : axififo.AxiStreamFifoDriver\n",
       "zynq_ultra_ps_e_0    : pynq.overlay.DefaultIP\n",
       "\n",
       "Hierarchies\n",
       "-----------\n",
       "adc_mux_config       : pynq.overlay.DefaultHierarchy\n",
       "awg_burst_length     : pynq.overlay.DefaultHierarchy\n",
       "awg_dma_error        : pynq.overlay.DefaultHierarchy\n",
       "awg_frame_depth      : pynq.overlay.DefaultHierarchy\n",
       "awg_start_stop       : pynq.overlay.DefaultHierarchy\n",
       "awg_trigger_out_config : pynq.overlay.DefaultHierarchy\n",
       "buffer_config        : pynq.overlay.DefaultHierarchy\n",
       "buffer_start_stop    : pynq.overlay.DefaultHierarchy\n",
       "buffer_timestamp_width : pynq.overlay.DefaultHierarchy\n",
       "dac_mux_config       : pynq.overlay.DefaultHierarchy\n",
       "dac_scale_config     : pynq.overlay.DefaultHierarchy\n",
       "daq_axis_0           : pynq.overlay.DefaultHierarchy\n",
       "dds_phase_inc        : pynq.overlay.DefaultHierarchy\n",
       "lmh6401_config       : pynq.overlay.DefaultHierarchy\n",
       "sample_discriminator_config : pynq.overlay.DefaultHierarchy\n",
       "trigger_manager_config : pynq.overlay.DefaultHierarchy\n",
       "\n",
       "Interrupts\n",
       "----------\n",
       "None\n",
       "\n",
       "GPIO Outputs\n",
       "------------\n",
       "None\n",
       "\n",
       "Memories\n",
       "------------\n",
       "PSDDR                : Memory\n",
       "\u001b[0;31mClass docstring:\u001b[0m\n",
       "This class keeps track of a single bitstream's state and contents.\n",
       "\n",
       "The overlay class holds the state of the bitstream and enables run-time\n",
       "protection of bindings.\n",
       "\n",
       "Our definition of overlay is: \"post-bitstream configurable design\".\n",
       "Hence, this class must expose configurability through content discovery\n",
       "and runtime protection.\n",
       "\n",
       "The overlay class exposes the IP and hierarchies as attributes in the\n",
       "overlay. If no other drivers are available the `DefaultIP` is constructed\n",
       "for IP cores at top level and `DefaultHierarchy` for any hierarchies that\n",
       "contain addressable IP. Custom drivers can be bound to IP and hierarchies\n",
       "by subclassing `DefaultIP` and `DefaultHierarchy`. See the help entries\n",
       "for those class for more details.\n",
       "\n",
       "This class stores four dictionaries: IP, GPIO, interrupt controller\n",
       "and interrupt pin dictionaries.\n",
       "\n",
       "Each entry of the IP dictionary is a mapping:\n",
       "'name' -> {phys_addr, addr_range, type, config, state}, where\n",
       "name (str) is the key of the entry.\n",
       "phys_addr (int) is the physical address of the IP.\n",
       "addr_range (int) is the address range of the IP.\n",
       "type (str) is the type of the IP.\n",
       "config (dict) is a dictionary of the configuration parameters.\n",
       "state (str) is the state information about the IP.\n",
       "\n",
       "Each entry of the GPIO dictionary is a mapping:\n",
       "'name' -> {pin, state}, where\n",
       "name (str) is the key of the entry.\n",
       "pin (int) is the user index of the GPIO, starting from 0.\n",
       "state (str) is the state information about the GPIO.\n",
       "\n",
       "Each entry in the interrupt controller dictionary is a mapping:\n",
       "'name' -> {parent, index}, where\n",
       "name (str) is the name of the interrupt controller.\n",
       "parent (str) is the name of the parent controller or '' if attached\n",
       "directly to the PS.\n",
       "index (int) is the index of the interrupt attached to.\n",
       "\n",
       "Each entry in the interrupt pin dictionary is a mapping:\n",
       "'name' -> {controller, index}, where\n",
       "name (str) is the name of the pin.\n",
       "controller (str) is the name of the interrupt controller.\n",
       "index (int) is the line index.\n",
       "\n",
       "Attributes\n",
       "----------\n",
       "bitfile_name : str\n",
       "    The absolute path of the bitstream.\n",
       "dtbo : str\n",
       "    The absolute path of the dtbo file for the full bitstream.\n",
       "ip_dict : dict\n",
       "    All the addressable IPs from PS. Key is the name of the IP; value is\n",
       "    a dictionary mapping the physical address, address range, IP type,\n",
       "    parameters, registers, and the state associated with that IP:\n",
       "    {str: {'phys_addr' : int, 'addr_range' : int,                'type' : str, 'parameters' : dict, 'registers': dict,                'state' : str}}.\n",
       "gpio_dict : dict\n",
       "    All the GPIO pins controlled by PS. Key is the name of the GPIO pin;\n",
       "    value is a dictionary mapping user index (starting from 0),\n",
       "    and the state associated with that GPIO pin:\n",
       "    {str: {'index' : int, 'state' : str}}.\n",
       "interrupt_controllers : dict\n",
       "    All AXI interrupt controllers in the system attached to\n",
       "    a PS interrupt line. Key is the name of the controller;\n",
       "    value is a dictionary mapping parent interrupt controller and the\n",
       "    line index of this interrupt:\n",
       "    {str: {'parent': str, 'index' : int}}.\n",
       "    The PS is the root of the hierarchy and is unnamed.\n",
       "interrupt_pins : dict\n",
       "    All pins in the design attached to an interrupt controller.\n",
       "    Key is the name of the pin; value is a dictionary\n",
       "    mapping the interrupt controller and the line index used:\n",
       "    {str: {'controller' : str, 'index' : int}}.\n",
       "pr_dict : dict\n",
       "    Dictionary mapping from the name of the partial-reconfigurable\n",
       "    hierarchical blocks to the loaded partial bitstreams:\n",
       "    {str: {'loaded': str, 'dtbo': str}}.\n",
       "device : pynq.Device\n",
       "    The device that the overlay is loaded on\n",
       "\u001b[0;31mInit docstring:\u001b[0m \n",
       "Return a new Overlay object.\n",
       "\n",
       "An overlay instantiates a bitstream object as a member initially.\n",
       "\n",
       "Parameters\n",
       "----------\n",
       "bitfile_name : str\n",
       "    The bitstream name or absolute path as a string.\n",
       "dtbo : str\n",
       "    The dtbo file name or absolute path as a string.\n",
       "download : bool\n",
       "    Whether the overlay should be downloaded.\n",
       "ignore_version : bool\n",
       "    Indicate whether or not to ignore the driver versions.\n",
       "device : pynq.Device\n",
       "    Device on which to load the Overlay. Defaults to\n",
       "    pynq.Device.active_device\n",
       "gen_cache: bool\n",
       "    if true generates a pickeled cache of the metadata\n",
       "\n",
       "Note\n",
       "----\n",
       "This class requires a HWH file to be next to bitstream file\n",
       "with same name (e.g. `base.bit` and `base.hwh`).\n"
      ]
     },
     "metadata": {},
     "output_type": "display_data"
    }
   ],
   "source": [
    "ol?"
   ]
  },
  {
   "cell_type": "code",
   "execution_count": null,
   "id": "8a9b5944-df65-413a-a082-5207445fec8d",
   "metadata": {},
   "outputs": [],
   "source": []
  }
 ],
 "metadata": {
  "kernelspec": {
   "display_name": "Python 3 (ipykernel)",
   "language": "python",
   "name": "python3"
  },
  "language_info": {
   "codemirror_mode": {
    "name": "ipython",
    "version": 3
   },
   "file_extension": ".py",
   "mimetype": "text/x-python",
   "name": "python",
   "nbconvert_exporter": "python",
   "pygments_lexer": "ipython3",
   "version": "3.10.4"
  }
 },
 "nbformat": 4,
 "nbformat_minor": 5
}
