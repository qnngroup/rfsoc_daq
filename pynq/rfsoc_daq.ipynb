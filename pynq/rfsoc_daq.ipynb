{
 "cells": [
  {
   "cell_type": "code",
   "execution_count": null,
   "id": "2845dfa7-b3b5-48b6-98ed-c79ac4a8a40f",
   "metadata": {},
   "outputs": [],
   "source": [
    "%matplotlib inline\n",
    "import numpy as np\n",
    "import matplotlib.pyplot as plt\n",
    "import matplotlib as mpl\n",
    "import scipy.signal\n",
    "import scipy.io\n",
    "import time\n",
    "from datetime import datetime\n",
    "from tqdm.notebook import tqdm\n",
    "from rfsoc_daq_overlay import DAQOverlay, ns_to_samp"
   ]
  },
  {
   "cell_type": "code",
   "execution_count": null,
   "id": "eacc0222-7a00-4b72-b417-6c330d2cda52",
   "metadata": {},
   "outputs": [],
   "source": [
    "ol = DAQOverlay(\"hw/top_20240823_152318.bit\", verbose=True, download=True) # new rx firmware, with ILA on ADC DMA intf, consolidated DMA, interrupt controller"
   ]
  },
  {
   "cell_type": "code",
   "execution_count": null,
   "id": "1facfdb5-db6a-4931-ba98-62fb90adbf6d",
   "metadata": {},
   "outputs": [],
   "source": [
    "# check that pgood is fine for all of the pins. if this is nonzero, the AFE isn't working.\n",
    "0x3f ^ ol.afe_power_status()"
   ]
  },
  {
   "cell_type": "markdown",
   "id": "8c54d711-bd49-4b58-bd97-9e69476d174e",
   "metadata": {
    "tags": []
   },
   "source": [
    "# bringup testfifo"
   ]
  },
  {
   "cell_type": "code",
   "execution_count": null,
   "id": "8a6975b8-045e-4480-a446-9fe50b097b5f",
   "metadata": {},
   "outputs": [],
   "source": [
    "dac_min_voltage_mV = np.array([-20.2, -13.9, -20.9, -16.2, -15.1, -15.1, -19.4, -13.1])\n",
    "dac_zero_voltage_mV = np.array([-2.4, 2.8, -3.0, 1.0, 1.2, 2.3, -1.1, 3.1])\n",
    "dac_max_voltage_mV = np.array([15.5, 18.4, 14.2, 17.7, 17.3, 19.1, 17.6, 19.8])\n",
    "dac_scale_per_mV = (0.25 - -0.25)/(dac_max_voltage_mV - dac_min_voltage_mV)\n",
    "dac_bias_correction = -dac_scale_per_mV*(dac_max_voltage_mV + 2*dac_zero_voltage_mV + dac_min_voltage_mV)/8#-dac_zero_voltage_mV*dac_scale_per_mV"
   ]
  },
  {
   "cell_type": "code",
   "execution_count": null,
   "id": "0a48a060-7518-469b-8295-9367ed8bcb38",
   "metadata": {},
   "outputs": [],
   "source": [
    "def generate_pulse(pulse_param_ns, fsamp):\n",
    "    rise_samples = ns_to_samp(pulse_param_ns[0], fsamp)\n",
    "    width_samples = ns_to_samp(pulse_param_ns[1], fsamp)\n",
    "    fall_samples = ns_to_samp(pulse_param_ns[2], fsamp)\n",
    "    delay_samples = ns_to_samp(pulse_param_ns[3], fsamp)\n",
    "    period_samples = ns_to_samp(pulse_param_ns[4], fsamp)\n",
    "    data = np.zeros(period_samples)\n",
    "    offset = delay_samples\n",
    "    # rising edge\n",
    "    data[offset:offset+rise_samples] = np.linspace(0, 2**15 - 1, rise_samples)\n",
    "    offset += rise_samples\n",
    "    # mesa\n",
    "    data[offset:offset+width_samples] = 2**15 - 1\n",
    "    offset += width_samples\n",
    "    # falling edge\n",
    "    data[offset:offset+fall_samples] = np.linspace(2**15 - 1, 0, fall_samples)\n",
    "    return data\n",
    "\n",
    "def get_savefile(device_name):\n",
    "    return datetime.now().strftime(\"%Y%m%d_%H%M%S\") + f'_{device_name}'"
   ]
  },
  {
   "cell_type": "code",
   "execution_count": null,
   "id": "3fc3008a-caf0-48b6-9d14-418f2545836d",
   "metadata": {},
   "outputs": [],
   "source": [
    "def bringup_test():\n",
    "    \"\"\"Basic bringup test\n",
    "    \n",
    "        1. setup AWG to send triangle pulses on DAC0 and DAC1\n",
    "        2. set 4 active channels\n",
    "        3. set ADC mux to pick ADC0, diff(ADC0), ADC1, diff(ADC1) -> {0,1,2,3}\n",
    "        5. bypass channel 3\n",
    "        6. set thresholds to effectively disable events on ch 0,2,3\n",
    "        7. set start/stop delays to be nonzero for ch 0,1\n",
    "        8. set ch 0,1 to share trigger from 1, ch 2 to get trigger from itself, and ch 3 to 0 (don't care though)\n",
    "        9. configure capture to trigger on DAC0 ({'0,1'b1}: OR, with mask 0x01)\n",
    "        10. set VGA attenuation\n",
    "        7. arm capture\n",
    "        8. send start signal to AWG\n",
    "        9. wait\n",
    "        10. send stop to capture\n",
    "        11. check write_depth\n",
    "    \"\"\"\n",
    "    device_name = 'bringup_rx2_0'\n",
    "    active_channels = 4\n",
    "    adc_atten_dB = [32]*8\n",
    "    ##########################################\n",
    "    # SET UP AWG\n",
    "    ##########################################\n",
    "    print(f'setting up AWG')\n",
    "    ol.stop_awg() # stop the AWG to make sure we return to DMA_IDLE state\n",
    "    ol.reset_readout()\n",
    "    ol.reset_capture()\n",
    "    ol.set_awg_triggers([1] + [0]*7) # set the trigger to output a 1 only at the beginning of a burst, only on channel 0\n",
    "    num_bursts = 1\n",
    "    ol.set_awg_burst_length([num_bursts]*8) # if burst_length = 0, run for 2^64 - 1 cycles, basically forever\n",
    "    # DMA buffer is allocated at num_channels x awg_frame_depth x 256b, so set frame length of awg_frame_depth\n",
    "    #set_awg_frame_depth([awg_frame_depth]*num_channels)\n",
    "\n",
    "    ### generate waveform to send ###\n",
    "    # set dac scale and set mux to use AWG\n",
    "    pulse_param_ns = [10, 5, 20, 0, 50]\n",
    "    num_pulses = 10\n",
    "    #####  SET OUTPUT AMPLITUDES ####\n",
    "    bias = np.zeros(8)\n",
    "    ampl = dac_scale_per_mV * 1 # 1 mV amplitude signal\n",
    "    ampl[2:active_channels] = 0\n",
    "    ol.set_dac_scale_offset(ampl, bias + dac_bias_correction)\n",
    "    # set mux to select AWGs\n",
    "    ol.dac_mux_select([0,1,2,3,4,5,6,7])\n",
    "    # generate waveform\n",
    "    awg_channel_frame_size = ol._awg_frame_depth_max*ol._dac_parallel_samples\n",
    "    for i in range(ol._num_channels):\n",
    "        pulse_period_samples = ns_to_samp(pulse_param_ns[4], ol._dac_fsamp)\n",
    "        start = i*awg_channel_frame_size\n",
    "        end = (i+1)*awg_channel_frame_size\n",
    "        # clear buffer\n",
    "        ol._awg_buffer[start:end] = 0\n",
    "        for j in range(num_pulses):\n",
    "            ol._awg_buffer[start:start+pulse_period_samples] = generate_pulse(pulse_param_ns, ol._dac_fsamp)\n",
    "            start += pulse_period_samples\n",
    "    ##########################################\n",
    "    # SET UP ADC BUFFER\n",
    "    ##########################################\n",
    "    print(f'setting up ADC buffer')\n",
    "    # set number of channels active\n",
    "    ol.set_capture_channel_count(active_channels)\n",
    "    # mux to select:\n",
    "    #  ADC0 -> channel 0\n",
    "    #  diff(ADC0) -> channel 1\n",
    "    #  ADC1 -> channel 2\n",
    "    #  diff(ADC1) -> channel 3\n",
    "    ol.adc_mux_select([0,8,1,9]+[0]*4)\n",
    "    # bypass discriminator on channel 3\n",
    "    ol.bypass_discriminators(0x4)\n",
    "    # set thresholds\n",
    "    ol.set_discriminator_thresholds([0x80,0x0,0x80,0x80]+[0]*4,[0x80,0x0,0x80,0x80]+[0]*4)\n",
    "    ol.set_discriminator_delays([5,5,0,0]+[0]*4,[5,5,0,0]+[0]*4,[0]*8)\n",
    "    ol.set_discriminator_event_sources([1,1,2,0]+[0]*4)\n",
    "    # set capture to trigger from AWG channel 0 only\n",
    "    ol.configure_capture_trigger(0x1, 'or')\n",
    "    ol.arm_capture()\n",
    "    ##########################################\n",
    "    # SET VGA GAIN/ATTENUATION\n",
    "    ##########################################\n",
    "    ol.set_vga_atten_dB(adc_atten_dB)\n",
    "    ##########################################\n",
    "    # START  AWG\n",
    "    ##########################################\n",
    "    print(f'starting AWG')\n",
    "    ol.send_awg_data()\n",
    "    ol.start_awg()\n",
    "    time.sleep(0.01)\n",
    "    print(f'DMA transfer exit code = {ol.get_dma_error()}')\n",
    "    ##########################################\n",
    "    # receive data\n",
    "    ##########################################\n",
    "    print(f'manually starting capture')\n",
    "    #start_capture()\n",
    "    ol.stop_capture()\n",
    "    time.sleep(0.01)\n",
    "    ol.start_readout()\n",
    "    print(f'receiving ADC data')\n",
    "    ol.receive_adc_data(False)\n",
    "    return get_savefile(device_name)"
   ]
  },
  {
   "cell_type": "code",
   "execution_count": null,
   "id": "6ba19cd4-d2b9-4f3b-a52c-550c2a474c68",
   "metadata": {},
   "outputs": [],
   "source": [
    "fname = bringup_test()"
   ]
  },
  {
   "cell_type": "code",
   "execution_count": null,
   "id": "d78ed4b6-c770-402a-84e0-1c90aa76844d",
   "metadata": {},
   "outputs": [],
   "source": []
  }
 ],
 "metadata": {
  "kernelspec": {
   "display_name": "Python 3 (ipykernel)",
   "language": "python",
   "name": "python3"
  },
  "language_info": {
   "codemirror_mode": {
    "name": "ipython",
    "version": 3
   },
   "file_extension": ".py",
   "mimetype": "text/x-python",
   "name": "python",
   "nbconvert_exporter": "python",
   "pygments_lexer": "ipython3",
   "version": "3.10.4"
  }
 },
 "nbformat": 4,
 "nbformat_minor": 5
}
